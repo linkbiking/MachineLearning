{
 "cells": [
  {
   "cell_type": "code",
   "execution_count": 3,
   "metadata": {},
   "outputs": [],
   "source": [
    "# Linear regression using numpy\n",
    "from __future__ import division, print_function, unicode_literals\n",
    "import numpy as np\n",
    "import matplotlib.pyplot as plt\n",
    "from IPython.core.interactiveshell import InteractiveShell\n",
    "InteractiveShell.ast_node_interactivity = \"all\""
   ]
  },
  {
   "cell_type": "code",
   "execution_count": 5,
   "metadata": {},
   "outputs": [
    {
     "name": "stdout",
     "output_type": "stream",
     "text": [
      "[[ 2.8]\n",
      " [ 5.7]\n",
      " [ 8.4]\n",
      " [11.1]\n",
      " [14.1]\n",
      " [16.6]]\n"
     ]
    },
    {
     "data": {
      "text/plain": [
       "[<matplotlib.lines.Line2D at 0x1c669e84278>]"
      ]
     },
     "execution_count": 5,
     "metadata": {},
     "output_type": "execute_result"
    },
    {
     "data": {
      "text/plain": [
       "[<matplotlib.lines.Line2D at 0x1c669b81710>]"
      ]
     },
     "execution_count": 5,
     "metadata": {},
     "output_type": "execute_result"
    },
    {
     "data": {
      "image/png": "[encoded data removed]",
      "text/plain": [
       "<Figure size 432x288 with 1 Axes>"
      ]
     },
     "metadata": {},
     "output_type": "display_data"
    }
   ],
   "source": [
    "#tao 1 ham so roi random ket qua tu ham so do\n",
    "#y = 3x+2\n",
    "\n",
    "X = np.array([[0,1,2,3,4,5]]).T\n",
    "y= 3*X+2\n",
    "\n",
    "#random nhiễu dựa trên y để ra label\n",
    "y_label = y + np.random.randint(-10,10,(len(X),1))/10\n",
    "print(y_label)\n",
    "plt.plot(X,y_label,'b+')\n",
    "plt.plot(X,y,'r-')\n",
    "plt.show()\n",
    "\n",
    "#vay data dùng sẽ bao gồm X và y_label"
   ]
  },
  {
   "cell_type": "code",
   "execution_count": null,
   "metadata": {},
   "outputs": [],
   "source": []
  },
  {
   "cell_type": "code",
   "execution_count": 15,
   "metadata": {},
   "outputs": [
    {
     "name": "stdout",
     "output_type": "stream",
     "text": [
      "[[3.03337403]\n",
      " [1.92183844]]\n"
     ]
    }
   ],
   "source": [
    "\n",
    "# khởi tạo các tham số và biến số\n",
    "#tao vector X1  bias roi them vao 1 cot cua matran X\n",
    "one = np.ones((X.shape[0],1))\n",
    "X1 = np.concatenate((X,one), axis = 1)\n",
    "\n",
    "m = X.shape[0]\n",
    "#tao matran W co shape la (so cot cua X, so cot cua y_label)\n",
    "W = np.ones((X1.shape[1], y_label.shape[1]))\n",
    "\n",
    "# y_predict = W.T * x\n",
    "def y_predict(w):\n",
    "    return np.dot(X1,w)\n",
    "\n",
    "def loss(w):\n",
    "    return (y_predict(w) - y_label)**2/(2*m)\n",
    "#print(loss)\n",
    "def loss_gradient(w):\n",
    "    return (X1.T.dot(y_predict(w) - y_label))/m\n",
    "\n",
    "\n",
    "learning_rate = 0.0001\n",
    "num_proc = 100000\n",
    "eps = 0.001\n",
    "#update\n",
    "for proc in range(num_proc):\n",
    "    W = W - learning_rate*loss_gradient(W)\n",
    "    if np.max(np.abs(y_predict(W)-y_label)) <= eps :\n",
    "        print(\"Stop in proc: \", proc)\n",
    "        break\n",
    "        \n",
    "print(W)\n",
    "\n"
   ]
  },
  {
   "cell_type": "code",
   "execution_count": null,
   "metadata": {},
   "outputs": [],
   "source": []
  }
 ],
 "metadata": {
  "kernelspec": {
   "display_name": "Python 3",
   "language": "python",
   "name": "python3"
  },
  "language_info": {
   "codemirror_mode": {
    "name": "ipython",
    "version": 3
   },
   "file_extension": ".py",
   "mimetype": "text/x-python",
   "name": "python",
   "nbconvert_exporter": "python",
   "pygments_lexer": "ipython3",
   "version": "3.6.4"
  }
 },
 "nbformat": 4,
 "nbformat_minor": 2
}
